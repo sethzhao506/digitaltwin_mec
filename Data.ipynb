{
 "cells": [
  {
   "cell_type": "code",
   "execution_count": 1,
   "id": "4de97a7f",
   "metadata": {},
   "outputs": [],
   "source": [
    "import numpy as np"
   ]
  },
  {
   "cell_type": "code",
   "execution_count": 3,
   "id": "4c14955b",
   "metadata": {},
   "outputs": [],
   "source": [
    "train = np.load(\"dataset/Train.npy\", allow_pickle=True)\n",
    "test = np.load(\"dataset/Test.npy\", allow_pickle=True)"
   ]
  },
  {
   "cell_type": "code",
   "execution_count": 7,
   "id": "d8ef18e0",
   "metadata": {},
   "outputs": [
    {
     "data": {
      "text/plain": [
       "(3233, 47, 47, 3)"
      ]
     },
     "execution_count": 7,
     "metadata": {},
     "output_type": "execute_result"
    }
   ],
   "source": [
    "train.item()[\"img\"].shape"
   ]
  },
  {
   "cell_type": "code",
   "execution_count": 12,
   "id": "06c80959",
   "metadata": {},
   "outputs": [
    {
     "data": {
      "text/plain": [
       "(47, 47, 3)"
      ]
     },
     "execution_count": 12,
     "metadata": {},
     "output_type": "execute_result"
    }
   ],
   "source": [
    "train.item()[\"img\"][0].shape"
   ]
  },
  {
   "cell_type": "code",
   "execution_count": 8,
   "id": "dfde18d7",
   "metadata": {},
   "outputs": [
    {
     "data": {
      "text/plain": [
       "(3233, 300, 3)"
      ]
     },
     "execution_count": 8,
     "metadata": {},
     "output_type": "execute_result"
    }
   ],
   "source": [
    "train.item()[\"points\"].shape"
   ]
  },
  {
   "cell_type": "code",
   "execution_count": 11,
   "id": "5a45ef31",
   "metadata": {},
   "outputs": [
    {
     "data": {
      "text/plain": [
       "array([3, 3, 3, ..., 4, 4, 4])"
      ]
     },
     "execution_count": 11,
     "metadata": {},
     "output_type": "execute_result"
    }
   ],
   "source": [
    "train.item()[\"class\"]"
   ]
  },
  {
   "cell_type": "code",
   "execution_count": null,
   "id": "28dd6b3e",
   "metadata": {},
   "outputs": [],
   "source": []
  }
 ],
 "metadata": {
  "kernelspec": {
   "display_name": "Python 3 (ipykernel)",
   "language": "python",
   "name": "python3"
  },
  "language_info": {
   "codemirror_mode": {
    "name": "ipython",
    "version": 3
   },
   "file_extension": ".py",
   "mimetype": "text/x-python",
   "name": "python",
   "nbconvert_exporter": "python",
   "pygments_lexer": "ipython3",
   "version": "3.8.13"
  }
 },
 "nbformat": 4,
 "nbformat_minor": 5
}
